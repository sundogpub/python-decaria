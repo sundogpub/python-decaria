{
 "cells": [
  {
   "cell_type": "markdown",
   "metadata": {},
   "source": [
    "# <center>Python Programming and Visualization for Scientists 2nd ed."
   ]
  },
  {
   "cell_type": "markdown",
   "metadata": {},
   "source": [
    "## Chapter 6"
   ]
  },
  {
   "cell_type": "markdown",
   "metadata": {},
   "source": [
    "These are some of the code snippets from the book.  They are provided as a convenience for cutting and pasting purposes only.\n",
    "* The code snippets are not necessarilly stand-alone, and may require dependencies in order to run without error.\n",
    "* The numers in the cells refer to the section numbers where the code snippet is located.\n",
    "* Not all code snippets are included.  Only those that are longer and more tedious to type are contained here."
   ]
  },
  {
   "cell_type": "code",
   "execution_count": null,
   "metadata": {},
   "outputs": [],
   "source": [
    "# 6.2.1\n",
    "import tkinter as tk\n",
    "from tkinter.filedialog import askopenfilename\n",
    "window = tk.Tk()\n",
    "window.withdraw()\n",
    "filename = askopenfilename(multiple=False)\n",
    "window.destroy()"
   ]
  },
  {
   "cell_type": "code",
   "execution_count": null,
   "metadata": {},
   "outputs": [],
   "source": [
    "# 6.2.1\n",
    "ft = [('GIF Files (*.gif)', '*.gif'), \n",
    "        ('JPG Files (*.jpg)', '*.jpg')]\n",
    "filename = askopenfilename(multiple=False,\n",
    "                          filetypes=ft)"
   ]
  },
  {
   "cell_type": "code",
   "execution_count": null,
   "metadata": {},
   "outputs": [],
   "source": [
    "# 6.2.2\n",
    "import tkinter as tk\n",
    "from tkinter.filedialog import askdirectory\n",
    "window = tk.Tk()\n",
    "window.withdraw()\n",
    "dirname = askdirectory(mustexist=True)\n",
    "window.destroy()"
   ]
  },
  {
   "cell_type": "markdown",
   "metadata": {},
   "source": [
    "You can copy the text below into a new text file and save it as 'datafile.txt'."
   ]
  },
  {
   "cell_type": "raw",
   "metadata": {},
   "source": [
    "The quick brown\n",
    "fox jumped over\n",
    "the\n",
    "lazy\n",
    "dog."
   ]
  },
  {
   "cell_type": "code",
   "execution_count": null,
   "metadata": {},
   "outputs": [],
   "source": [
    "# 6.3.2\n",
    "with open('datafile.txt', 'r') as f:\n",
    "    for line in f:\n",
    "        print(line)"
   ]
  },
  {
   "cell_type": "code",
   "execution_count": null,
   "metadata": {},
   "outputs": [],
   "source": [
    "# 6.3.3\n",
    "with open('datafile.txt', 'r') as f:\n",
    "    data = f.readlines()\n",
    "print(data)"
   ]
  },
  {
   "cell_type": "code",
   "execution_count": null,
   "metadata": {},
   "outputs": [],
   "source": [
    "# 6.4.1\n",
    "with open('myfile.txt', 'w') as f:\n",
    "    f.write('Now is the time\\n')\n",
    "    f.write('for all good men\\n')\n",
    "    f.write('to come to the aid\\n')\n",
    "    f.write('of their country.')"
   ]
  },
  {
   "cell_type": "code",
   "execution_count": null,
   "metadata": {},
   "outputs": [],
   "source": [
    "# 6.4.1\n",
    "with open('myfile.txt', 'w') as f:\n",
    "    print('Now is the time', file=f)\n",
    "    print('for all good men', file=f)\n",
    "    print('to come to the aid', file=f)\n",
    "    print('of their country.', file=f)"
   ]
  },
  {
   "cell_type": "code",
   "execution_count": null,
   "metadata": {},
   "outputs": [],
   "source": [
    "# 6.4.2\n",
    "s = ['Now is the time\\n','for all good men\\n', \\\n",
    "     'to come to the aid\\n','of their country.']\n",
    "with open('myfile.txt', 'w') as f:\n",
    "    f.writelines(s)"
   ]
  },
  {
   "cell_type": "markdown",
   "metadata": {},
   "source": [
    "You can copy the text below into a new text file and save it as 'datafile.txt'."
   ]
  },
  {
   "cell_type": "raw",
   "metadata": {},
   "source": [
    "Name, City, Age, Height (in), Weight(lbs)\n",
    "Alex, Layton, 51, 72, 195\n",
    "Francis, Ogden, 34, 68, 177\n",
    "Megan, Las Vegas, 23, 65, 120\n",
    "Lois, St.~George, 56, 60, 130"
   ]
  },
  {
   "cell_type": "code",
   "execution_count": null,
   "metadata": {},
   "outputs": [],
   "source": [
    "# 6.5.1\n",
    "import csv\n",
    "with open('datafile.csv', 'r') as f:\n",
    "    r = csv.reader(f, delimiter=',')\n",
    "    for i, data in enumerate(r):\n",
    "        if i == 0:  # Skips header row\n",
    "            pass\n",
    "        else:\n",
    "            lbs = float(data[4])\n",
    "            inch = float(data[3])\n",
    "            bmi = 703.0*lbs/inch**2\n",
    "            print(data[0], round(bmi,1))"
   ]
  },
  {
   "cell_type": "code",
   "execution_count": null,
   "metadata": {},
   "outputs": [],
   "source": [
    "# 6.5.2\n",
    "head = ['City', 'County', 'Population']\n",
    "data = [['Layton', 'Davis', 77303],\n",
    "        ['Ogden', 'Weber', 88825],\n",
    "        ['Toole', 'Toole', 31605]]\n",
    "import csv\n",
    "filename = 'cities.txt'\n",
    "with open(filename, 'w') as fout:\n",
    "    w = csv.writer(fout, delimiter=';')\n",
    "    w.writerow(head)\n",
    "    w.writerows(data)"
   ]
  }
 ],
 "metadata": {
  "kernelspec": {
   "display_name": "Python 3",
   "language": "python",
   "name": "python3"
  },
  "language_info": {
   "codemirror_mode": {
    "name": "ipython",
    "version": 3
   },
   "file_extension": ".py",
   "mimetype": "text/x-python",
   "name": "python",
   "nbconvert_exporter": "python",
   "pygments_lexer": "ipython3",
   "version": "3.7.6"
  }
 },
 "nbformat": 4,
 "nbformat_minor": 4
}
