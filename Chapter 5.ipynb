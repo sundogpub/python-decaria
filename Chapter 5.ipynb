{
 "cells": [
  {
   "cell_type": "markdown",
   "metadata": {},
   "source": [
    "# <center>Python Programming and Visualization for Scientists 2nd ed."
   ]
  },
  {
   "cell_type": "markdown",
   "metadata": {},
   "source": [
    "## Chapter 5"
   ]
  },
  {
   "cell_type": "markdown",
   "metadata": {},
   "source": [
    "These are some of the code snippets from the book.  They are provided as a convenience for cutting and pasting purposes only.\n",
    "* The code snippets are not necessarilly stand-alone, and may require dependencies in order to run without error.\n",
    "* The numers in the cells refer to the section numbers where the code snippet is located.\n",
    "* Not all code snippets are included.  Only those that are longer and more tedious to type are contained here."
   ]
  },
  {
   "cell_type": "code",
   "execution_count": null,
   "metadata": {},
   "outputs": [],
   "source": [
    "# 5.3.2\n",
    "a = float(input('Enter number: '))\n",
    "x = a**2 if a >= 0 else a**3\n",
    "print(x)"
   ]
  },
  {
   "cell_type": "code",
   "execution_count": null,
   "metadata": {},
   "outputs": [],
   "source": [
    "# 5.3.2\n",
    "a = float(input('Enter number: '))\n",
    "print(a**2) if a >= 0 else a**3"
   ]
  },
  {
   "cell_type": "code",
   "execution_count": null,
   "metadata": {},
   "outputs": [],
   "source": [
    "# 5.3.3\n",
    "mylist = ['hi', 'bye']\n",
    "if mylist:\n",
    "    print('The list has {0:d} elements.'.format(len(mylist)))\n",
    "else:\n",
    "    print('The list is empty.')"
   ]
  },
  {
   "cell_type": "code",
   "execution_count": null,
   "metadata": {},
   "outputs": [],
   "source": [
    "# 5.5.1\n",
    "data = [4, 9, -8, 'cat', 'mouse']\n",
    "for d in data:\n",
    "    print(d)"
   ]
  },
  {
   "cell_type": "code",
   "execution_count": null,
   "metadata": {},
   "outputs": [],
   "source": [
    "# 5.5.1\n",
    "for i,val in enumerate(range(-10, -4)):\n",
    "    print(i, val)"
   ]
  },
  {
   "cell_type": "code",
   "execution_count": null,
   "metadata": {},
   "outputs": [],
   "source": [
    "# 5.5.2\n",
    "a = 0\n",
    "while a < 5:\n",
    "    print(a)\n",
    "    a += 1"
   ]
  },
  {
   "cell_type": "code",
   "execution_count": null,
   "metadata": {},
   "outputs": [],
   "source": [
    "# 5.5.3\n",
    "for val in range(0, 10):\n",
    "    if val % 2 == 0:\n",
    "        continue\n",
    "    print(val)"
   ]
  },
  {
   "cell_type": "code",
   "execution_count": null,
   "metadata": {},
   "outputs": [],
   "source": [
    "# 5.5.4\n",
    "for val in range(0,10):\n",
    "    if val > 5:\n",
    "        break\n",
    "    print(val)"
   ]
  },
  {
   "cell_type": "code",
   "execution_count": null,
   "metadata": {},
   "outputs": [],
   "source": [
    "# 5.6\n",
    "p = -99.0\n",
    "while p <= 0 or p > 1100:\n",
    "    p = float(input('Enter pressure (mb): '))"
   ]
  },
  {
   "cell_type": "code",
   "execution_count": null,
   "metadata": {},
   "outputs": [],
   "source": [
    "# 5.7\n",
    "a = int(input('Enter integer: '))\n",
    "if a < 0:\n",
    "    print(a)\n",
    "elif a == 0:\n",
    "    pass\n",
    "else:\n",
    "    print(a**2)"
   ]
  },
  {
   "cell_type": "code",
   "execution_count": null,
   "metadata": {},
   "outputs": [],
   "source": [
    "# 5.8\n",
    "fnames = ['good.txt', 'bad.txt', 'ugly.txt']\n",
    "bases = [f[0:-4] for f in fnames]\n",
    "bases"
   ]
  },
  {
   "cell_type": "code",
   "execution_count": null,
   "metadata": {},
   "outputs": [],
   "source": [
    "# 5.9\n",
    "for i in range(1,5): \n",
    "    print(i, end='') "
   ]
  },
  {
   "cell_type": "code",
   "execution_count": null,
   "metadata": {},
   "outputs": [],
   "source": [
    "# 5.9    \n",
    "for i in range(1,5): \n",
    "    print(i, end=':') "
   ]
  },
  {
   "cell_type": "code",
   "execution_count": null,
   "metadata": {},
   "outputs": [],
   "source": [
    "# 5.10\n",
    "try:\n",
    "    import numpy as np\n",
    "except ImportError:\n",
    "    print('Unable to import numpy! Importing math instead.')\n",
    "    import math as np\n",
    "print(np.cos(np.pi/4))"
   ]
  },
  {
   "cell_type": "code",
   "execution_count": null,
   "metadata": {},
   "outputs": [],
   "source": [
    "# 5.10\n",
    "try:\n",
    "    import numpy as np\n",
    "except ImportError as e:\n",
    "    print(e)\n",
    "    print('Unable to import numpy! Importing math instead.')\n",
    "    import math as np\n",
    "print(np.cos(np.pi/4))"
   ]
  }
 ],
 "metadata": {
  "kernelspec": {
   "display_name": "Python 3",
   "language": "python",
   "name": "python3"
  },
  "language_info": {
   "codemirror_mode": {
    "name": "ipython",
    "version": 3
   },
   "file_extension": ".py",
   "mimetype": "text/x-python",
   "name": "python",
   "nbconvert_exporter": "python",
   "pygments_lexer": "ipython3",
   "version": "3.7.6"
  }
 },
 "nbformat": 4,
 "nbformat_minor": 4
}
